{
 "cells": [
  {
   "cell_type": "code",
   "execution_count": null,
   "id": "4d4c576c-943e-4b95-b54f-0f828bbfd41f",
   "metadata": {},
   "outputs": [],
   "source": [
    "from PIL import Image\n",
    "import colorsys\n",
    "import math\n",
    "\n",
    "px, py = -0.7746806106269039, -0.1374168856037867 #Tante Renate\n",
    "R = 3 \n",
    "max_iteration = 2500\n",
    "w, h = 1024,1024\n",
    "mfactor = 0.5\n",
    "\n",
    "\n",
    "def Mandelbrot(x,y,max_iteration,minx,maxx,miny,maxy):\n",
    "    zx = 0\n",
    "    zy = 0\n",
    "    RX1, RX2, RY1, RY2 = px-R/2, px+R/2,py-R/2,py+R/2\n",
    "    cx = (x-minx)/(maxx-minx)*(RX2-RX1)+RX1\n",
    "    cy = (y-miny)/(maxy-miny)*(RY2-RY1)+RY1\n",
    "    i=0\n",
    "    while zx**2 + zy**2 <= 4 and i < max_iteration:\n",
    "        temp = zx**2 - zy**2\n",
    "        zy = 2*zx*zy + cy\n",
    "        zx = temp + cx\n",
    "        i += 1\n",
    "    return i\n",
    "\n",
    "\n",
    "def gen_Mandelbrot_image(sequence):\n",
    "    bitmap = Image.new(\"RGB\", (w, h), \"white\")\n",
    "    pix = bitmap.load()\n",
    "    for x in range(w):\n",
    "        for y in range(h):\n",
    "            c=Mandelbrot(x,y,max_iteration,0,w-1,0,h-1)\n",
    "            v = c**mfactor/max_iteration**mfactor\n",
    "            hv = 0.67-v\n",
    "            if hv<0: hv+=1\n",
    "            r,g,b = colorsys.hsv_to_rgb(hv,1,1-(v-0.1)**2/0.9**2)\n",
    "            r = min(255,round(r*255))\n",
    "            g = min(255,round(g*255))\n",
    "            b = min(255,round(b*255))\n",
    "            pix[x,y] = int(r) + (int(g) << 8) + (int(b) << 16)\n",
    "    bitmap.save(\"Mandelbrot_\"+str(sequence)+\".jpg\")\n",
    "\n",
    "R=3\n",
    "f = 0.975\n",
    "RZF = 1/1000000000000\n",
    "k=1\n",
    "while R>RZF:\n",
    "    if k>100: break\n",
    "    mfactor = 0.5 + (1/1000000000000)**0.1/R**0.1\n",
    "    print(k,mfactor)\n",
    "    gen_Mandelbrot_image(k)\n",
    "    R *= f\n",
    "    k+=1"
   ]
  },
  {
   "cell_type": "code",
   "execution_count": 1,
   "id": "57ffea16-3ca6-4c65-b313-dad3fd8fb249",
   "metadata": {},
   "outputs": [],
   "source": [
    "from PIL import Image\n",
    "import colorsys\n",
    "import math\n",
    "\n",
    "px, py = -0.7746806106269039, -0.1374168856037867 #Tante Renate\n",
    "px, py, zoom = -0.74384935657398, -0.13170134084746293, 5788441.443619884\n",
    "px, py, zoom = 2.613577e-1, -2.018128e-3, 3.354786e+3\n",
    "px, py, zoom = -0.59990625, -0.4290703125, 1024\n",
    "px, py, zoom = -1.038650e-1, -9.584393e-1, 1.674667e+5\n",
    "px, py, zoom = -0.761574, -0.0847596, 78125\n",
    "px, py, zoom = -1.62917,-0.0203968, 3125\n",
    "px, py, zoom = -0.75,0,1\n",
    "R = 3 \n",
    "max_iteration = 512\n",
    "w, h = 1250,1250\n",
    "mfactor = 1\n",
    "\n",
    "def Mandelbrot(x,y,max_iteration,minx,maxx,miny,maxy):\n",
    "    zx = 0\n",
    "    zy = 0\n",
    "    RX1, RX2, RY1, RY2 = px-R/2, px+R/2,py-R/2,py+R/2\n",
    "    cx = (x-minx)/(maxx-minx)*(RX2-RX1)+RX1\n",
    "    cy = (y-miny)/(maxy-miny)*(RY2-RY1)+RY1\n",
    "    i=0\n",
    "    while zx**2 + zy**2 <= 4 and i < max_iteration:\n",
    "        temp = zx**2 - zy**2\n",
    "        zy = 2*zx*zy + cy\n",
    "        zx = temp + cx\n",
    "        i += 1\n",
    "    return i\n",
    "\n",
    "def gen_Mandelbrot_image():\n",
    "    bitmap = Image.new(\"RGB\", (w, h), \"white\")\n",
    "    pix = bitmap.load()\n",
    "    for x in range(w):\n",
    "        for y in range(h):\n",
    "            c=Mandelbrot(x,y,max_iteration,0,w-1,0,h-1)\n",
    "            v = c**mfactor/max_iteration**mfactor\n",
    "            hv = 0.67-v*2\n",
    "            #if hv<0: hv+=1\n",
    "            r,g,b = colorsys.hsv_to_rgb(hv,1,1-(v-0.1)**2/0.9**2)\n",
    "            r = min(255,round(r*255))\n",
    "            g = min(255,round(g*255))\n",
    "            b = min(255,round(b*255))\n",
    "            pix[x,y] = int(r) + (int(g) << 8) + (int(b) << 16)\n",
    "    bitmap.save(\"Mandelbrot_\"+str(px)+\"_\"+str(py)+\"_\"+str(zoom)+\".jpg\")\n",
    "    bitmap.show()\n",
    "  \n",
    "R= 3/zoom\n",
    "gen_Mandelbrot_image()"
   ]
  },
  {
   "cell_type": "code",
   "execution_count": null,
   "id": "be63068f-b7df-4df6-bf3c-0ad08e24d8bc",
   "metadata": {},
   "outputs": [],
   "source": []
  },
  {
   "cell_type": "code",
   "execution_count": null,
   "id": "872266f1-7843-4640-b89a-679685dc02cf",
   "metadata": {},
   "outputs": [],
   "source": []
  },
  {
   "cell_type": "code",
   "execution_count": null,
   "id": "a9a326c0-6853-4baa-9c83-6d90de2bc7dd",
   "metadata": {},
   "outputs": [],
   "source": []
  },
  {
   "cell_type": "code",
   "execution_count": null,
   "id": "128051d8-5ae6-422b-9c1b-78d599b8345e",
   "metadata": {},
   "outputs": [],
   "source": []
  },
  {
   "cell_type": "code",
   "execution_count": null,
   "id": "6d291cdc-3afd-4379-b87d-6912550afb93",
   "metadata": {},
   "outputs": [],
   "source": []
  },
  {
   "cell_type": "code",
   "execution_count": null,
   "id": "b08ecb0c-f61f-40ec-8790-fe1176fa53ac",
   "metadata": {},
   "outputs": [],
   "source": []
  },
  {
   "cell_type": "code",
   "execution_count": null,
   "id": "4f8a8e5a-f8f9-450f-884a-4224321974db",
   "metadata": {},
   "outputs": [],
   "source": []
  },
  {
   "cell_type": "code",
   "execution_count": null,
   "id": "c3cf9a3f-f187-4bd1-acd2-fc2fc95ef543",
   "metadata": {},
   "outputs": [],
   "source": []
  },
  {
   "cell_type": "code",
   "execution_count": null,
   "id": "067d32ec-9ffd-4a4d-8dfb-2187fcca9bde",
   "metadata": {},
   "outputs": [],
   "source": []
  },
  {
   "cell_type": "code",
   "execution_count": null,
   "id": "ce666d07-47cd-4c8d-88cd-a61f8ce9b42c",
   "metadata": {},
   "outputs": [],
   "source": []
  },
  {
   "cell_type": "code",
   "execution_count": null,
   "id": "578f9119-5096-465a-b00e-c5371c6f6454",
   "metadata": {},
   "outputs": [],
   "source": []
  },
  {
   "cell_type": "code",
   "execution_count": null,
   "id": "285ecb72-7c38-42c8-9c8d-0f3ea7f8a289",
   "metadata": {},
   "outputs": [],
   "source": []
  },
  {
   "cell_type": "code",
   "execution_count": null,
   "id": "8b8a45d7-0120-42b8-aef3-0d46bdd33105",
   "metadata": {},
   "outputs": [],
   "source": []
  },
  {
   "cell_type": "code",
   "execution_count": null,
   "id": "534efbc4-2415-45fc-a6d4-aac34f861208",
   "metadata": {},
   "outputs": [],
   "source": []
  },
  {
   "cell_type": "code",
   "execution_count": null,
   "id": "88052e29-cac8-4272-a30a-d214e8b3a299",
   "metadata": {},
   "outputs": [],
   "source": []
  },
  {
   "cell_type": "code",
   "execution_count": null,
   "id": "701530d0-5e23-43fa-859d-40e33b89e92c",
   "metadata": {},
   "outputs": [],
   "source": []
  },
  {
   "cell_type": "code",
   "execution_count": null,
   "id": "4905c0e6-6d91-456e-995e-af6654ab9cc7",
   "metadata": {},
   "outputs": [],
   "source": []
  },
  {
   "cell_type": "code",
   "execution_count": null,
   "id": "3de023b4-158e-4d0d-8821-2e7a3247623a",
   "metadata": {},
   "outputs": [],
   "source": []
  },
  {
   "cell_type": "code",
   "execution_count": null,
   "id": "0ccc3193",
   "metadata": {},
   "outputs": [],
   "source": [
    "# https://matplotlib.org/matplotblog/posts/animated-fractals/"
   ]
  },
  {
   "cell_type": "code",
   "execution_count": null,
   "id": "bba06ace",
   "metadata": {},
   "outputs": [],
   "source": [
    "import plotly.express as px"
   ]
  },
  {
   "cell_type": "code",
   "execution_count": null,
   "id": "e9599c64",
   "metadata": {},
   "outputs": [],
   "source": [
    "from fractals.mandelbrot import get_image"
   ]
  },
  {
   "cell_type": "code",
   "execution_count": null,
   "id": "4f96ebf6",
   "metadata": {},
   "outputs": [],
   "source": [
    "def mandelbrot(x, y, threshold):\n",
    "    \"\"\"Calculates whether the number c = x + i*y belongs to the \n",
    "    Mandelbrot set. In order to belong, the sequence z[i + 1] = z[i]**2 + c\n",
    "    must not diverge after 'threshold' number of steps. The sequence diverges\n",
    "    if the absolute value of z[i+1] is greater than 4.\n",
    "    \n",
    "    :param float x: the x component of the initial complex number\n",
    "    :param float y: the y component of the initial complex number\n",
    "    :param int threshold: the number of iterations to considered it converged\n",
    "    \"\"\"\n",
    "    # initial conditions\n",
    "    c = complex(x, y)\n",
    "    z = complex(0, 0)\n",
    "    \n",
    "    for i in range(threshold):\n",
    "        z = z**2 + c\n",
    "        if abs(z) > 4.:  # it diverged\n",
    "            return i\n",
    "        \n",
    "    return threshold - 1  # it didn't diverge"
   ]
  },
  {
   "cell_type": "code",
   "execution_count": null,
   "id": "f24070d8",
   "metadata": {},
   "outputs": [],
   "source": []
  },
  {
   "cell_type": "code",
   "execution_count": null,
   "id": "2527db6a",
   "metadata": {},
   "outputs": [],
   "source": []
  }
 ],
 "metadata": {
  "kernelspec": {
   "display_name": "Python 3 (ipykernel)",
   "language": "python",
   "name": "python3"
  },
  "language_info": {
   "codemirror_mode": {
    "name": "ipython",
    "version": 3
   },
   "file_extension": ".py",
   "mimetype": "text/x-python",
   "name": "python",
   "nbconvert_exporter": "python",
   "pygments_lexer": "ipython3",
   "version": "3.11.5"
  }
 },
 "nbformat": 4,
 "nbformat_minor": 5
}
